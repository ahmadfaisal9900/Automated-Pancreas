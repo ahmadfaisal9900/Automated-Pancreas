{
 "cells": [
  {
   "cell_type": "code",
   "execution_count": 107,
   "metadata": {},
   "outputs": [],
   "source": [
    "import numpy as np\n",
    "import matplotlib.pyplot as plt\n",
    "import pandas as pd"
   ]
  },
  {
   "cell_type": "code",
   "execution_count": 2,
   "metadata": {},
   "outputs": [
    {
     "name": "stdout",
     "output_type": "stream",
     "text": [
      "                  Time      BG         CGM  CHO   insulin  LBGI      HBGI  \\\n",
      "0  2024-04-22 00:00:00  149.02  165.793949  0.0  0.013933   0.0  2.755276   \n",
      "1  2024-04-22 00:03:00  149.02  161.582022  0.0  0.013933   0.0  2.755276   \n",
      "2  2024-04-22 00:06:00  149.02  159.239373  0.0  0.013933   0.0  2.755276   \n",
      "3  2024-04-22 00:09:00  149.02  157.472710  0.0  0.013933   0.0  2.755276   \n",
      "4  2024-04-22 00:12:00  149.02  156.108950  0.0  0.013933   0.0  2.755276   \n",
      "\n",
      "       Risk  \n",
      "0  2.755276  \n",
      "1  2.755276  \n",
      "2  2.755276  \n",
      "3  2.755276  \n",
      "4  2.755276  \n"
     ]
    }
   ],
   "source": [
    "import pandas as pd\n",
    "\n",
    "# Define the path to the CSV file\n",
    "file_path = 'results2\\\\adolescent#001.csv'\n",
    "\n",
    "# Load the CSV file into a DataFrame\n",
    "df = pd.read_csv(file_path)\n",
    "\n",
    "# Print the first few rows of the DataFrame\n",
    "print(df.head())"
   ]
  },
  {
   "cell_type": "code",
   "execution_count": 3,
   "metadata": {},
   "outputs": [
    {
     "name": "stdout",
     "output_type": "stream",
     "text": [
      "                  Time         CGM   insulin\n",
      "0  2024-04-22 00:00:00  165.793949  0.013933\n",
      "1  2024-04-22 00:03:00  161.582022  0.013933\n",
      "2  2024-04-22 00:06:00  159.239373  0.013933\n",
      "3  2024-04-22 00:09:00  157.472710  0.013933\n",
      "4  2024-04-22 00:12:00  156.108950  0.013933\n"
     ]
    }
   ],
   "source": [
    "columns_to_keep = ['Time', 'CGM', 'insulin']\n",
    "\n",
    "all_columns = df.columns.tolist()\n",
    "\n",
    "columns_to_drop = [col for col in all_columns if col not in columns_to_keep]\n",
    "\n",
    "df = df.drop(columns=columns_to_drop)\n",
    "\n",
    "print(df.head())"
   ]
  },
  {
   "cell_type": "code",
   "execution_count": 4,
   "metadata": {},
   "outputs": [
    {
     "name": "stdout",
     "output_type": "stream",
     "text": [
      "       Time         CGM   insulin        Date\n",
      "0  00:00:00  165.793949  0.013933  2024-04-22\n",
      "1  00:03:00  161.582022  0.013933  2024-04-22\n",
      "2  00:06:00  159.239373  0.013933  2024-04-22\n",
      "3  00:09:00  157.472710  0.013933  2024-04-22\n",
      "4  00:12:00  156.108950  0.013933  2024-04-22\n"
     ]
    }
   ],
   "source": [
    "# Convert the 'Time' column to string type\n",
    "df['Time'] = df['Time'].astype(str)\n",
    "\n",
    "# Split the 'Time' column into 'Date' and 'Time'\n",
    "df[['Date', 'Time']] = df['Time'].str.split(' ', expand=True)\n",
    "\n",
    "# Print the first few rows of the DataFrame\n",
    "print(df.head())"
   ]
  },
  {
   "cell_type": "code",
   "execution_count": 5,
   "metadata": {},
   "outputs": [],
   "source": [
    "# Define the list of tuples\n",
    "scen = [(7, 45), (12, 70), (16, 15), (18, 80), (23, 10)]\n",
    "\n",
    "# Convert the list of tuples into a DataFrame\n",
    "meal_df = pd.DataFrame(scen, columns=['Hour', 'Meal'])\n",
    "\n",
    "# Convert the 'Hour' column to time string format and add 3 minutes\n",
    "meal_df['Hour'] = meal_df['Hour'].apply(lambda x: f'{x:02}:03:00')"
   ]
  },
  {
   "cell_type": "code",
   "execution_count": 6,
   "metadata": {},
   "outputs": [],
   "source": [
    "# Add a new column named 'Meal' to the DataFrame\n",
    "df['Meal'] = 0"
   ]
  },
  {
   "cell_type": "code",
   "execution_count": 7,
   "metadata": {},
   "outputs": [],
   "source": [
    "# Assuming 'Hour' is a string column with consistent time format\n",
    "\n",
    "hour_list = meal_df['Hour'].tolist()\n",
    "meal_list = meal_df['Meal'].tolist()\n",
    "\n",
    "# Iterate through 'Time' column\n",
    "for index, time in df['Time'].items():\n",
    "  # No need to convert 'time' (assuming it's already a datetime object)\n",
    "  time_str = time  # time_str already contains the formatted time string\n",
    "\n",
    "  # Check if time string exists in hour_list\n",
    "  if time_str in hour_list:\n",
    "    # Get the corresponding meal index (assuming order is consistent)\n",
    "    meal_index = hour_list.index(time_str)\n",
    "    \n",
    "    # Update 'Meal' column value at the current index\n",
    "    df.at[index, 'Meal'] = meal_list[meal_index]\n"
   ]
  },
  {
   "cell_type": "code",
   "execution_count": 8,
   "metadata": {},
   "outputs": [
    {
     "name": "stderr",
     "output_type": "stream",
     "text": [
      "C:\\Users\\Ahmad\\AppData\\Local\\Temp\\ipykernel_10424\\2858684587.py:5: UserWarning: Could not infer format, so each element will be parsed individually, falling back to `dateutil`. To ensure parsing is consistent and as-expected, please specify a format.\n",
      "  df['Time'] = pd.to_datetime(df['Time']).dt.time\n"
     ]
    }
   ],
   "source": [
    "# Convert the 'Date' column to datetime format\n",
    "df['Date'] = pd.to_datetime(df['Date']).dt.date\n",
    "\n",
    "# Convert the 'Time' column to time format\n",
    "df['Time'] = pd.to_datetime(df['Time']).dt.time"
   ]
  },
  {
   "cell_type": "code",
   "execution_count": 9,
   "metadata": {},
   "outputs": [
    {
     "name": "stdout",
     "output_type": "stream",
     "text": [
      "         Time        CGM   insulin        Date  Meal  Prediction\n",
      "476  23:48:00  93.736518  0.013933  2024-04-22     0   92.966818\n",
      "477  23:51:00  92.966818  0.013933  2024-04-22     0   92.409334\n",
      "478  23:54:00  92.409334  0.013933  2024-04-22     0   92.171035\n",
      "479  23:57:00  92.171035  0.013933  2024-04-22     0   92.250490\n",
      "480  00:00:00  92.250490       NaN  2024-04-23     0         NaN\n"
     ]
    }
   ],
   "source": [
    "# Create a new column 'Prediction' and shift the 'CGM' column up by one row\n",
    "df['Prediction'] = df['CGM'].shift(-1)\n",
    "\n",
    "# Print the last few rows of the DataFrame\n",
    "print(df.tail())"
   ]
  },
  {
   "cell_type": "code",
   "execution_count": null,
   "metadata": {},
   "outputs": [],
   "source": []
  },
  {
   "cell_type": "code",
   "execution_count": 10,
   "metadata": {},
   "outputs": [],
   "source": [
    "df.to_csv('results2\\\\adolescent#001_processed.csv', index=False)"
   ]
  },
  {
   "cell_type": "code",
   "execution_count": null,
   "metadata": {},
   "outputs": [],
   "source": []
  }
 ],
 "metadata": {
  "kernelspec": {
   "display_name": "Python 3",
   "language": "python",
   "name": "python3"
  },
  "language_info": {
   "codemirror_mode": {
    "name": "ipython",
    "version": 3
   },
   "file_extension": ".py",
   "mimetype": "text/x-python",
   "name": "python",
   "nbconvert_exporter": "python",
   "pygments_lexer": "ipython3",
   "version": "3.9.9"
  }
 },
 "nbformat": 4,
 "nbformat_minor": 2
}
