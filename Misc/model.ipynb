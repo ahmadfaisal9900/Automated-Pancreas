{
 "cells": [
  {
   "cell_type": "code",
   "execution_count": 67,
   "metadata": {},
   "outputs": [],
   "source": [
    "import numpy as np\n",
    "import matplotlib.pyplot as plt\n",
    "import torch\n",
    "import torch.nn as nn\n",
    "import pandas as pd\n",
    "import torch.optim as optim\n",
    "from torch.utils.data import DataLoader, Dataset\n",
    "import torch.nn.functional as F\n",
    "import os\n",
    "import seaborn as sns"
   ]
  },
  {
   "cell_type": "code",
   "execution_count": 68,
   "metadata": {},
   "outputs": [],
   "source": [
    "from preprocessing import preprocess\n",
    "import os\n",
    "# Define the path to the directory with the CSV files\n",
    "input_dir = 'seeds\\\\seed3'\n",
    "output_dir = 'processed_results'\n",
    "\n",
    "# Check if output directory exists, if not, create it\n",
    "if not os.path.exists(output_dir):\n",
    "    os.makedirs(output_dir)\n",
    "\n",
    "# Get a list of all CSV files in the directory\n",
    "csv_files = [f for f in os.listdir(input_dir) if f.endswith('.csv')]\n",
    "\n",
    "# Define the scenario\n",
    "data = [\n",
    "    [(8, 55), (12, 80), (16, 40), (18, 50), (23, 75)]\n",
    ",[(7, 80), (11, 75), (15, 20), (18, 35), (22, 25)]\n",
    ",[(8, 45), (12, 30), (14, 90), (18, 50), (22, 45)]\n",
    ",[(7, 55), (11, 80), (15, 45), (17, 60), (22, 35)]\n",
    ",[(7, 60), (12, 90), (16, 65), (18, 20), (22, 30)]\n",
    ",[(8, 65), (11, 75), (15, 35), (18, 45), (22, 25)]\n",
    ",[(7, 20), (12, 80), (15, 30), (18, 75), (22, 60)]\n",
    ",[(8, 50), (12, 70), (14, 35), (18, 80), (22, 30)]\n",
    ",[(7, 40), (11, 65), (15, 50), (18, 95), (22, 45)]\n",
    ",[(7, 25), (12, 80), (14, 35), (18, 45), (22, 95)]\n",
    "]\n",
    "\n",
    "# Loop over all CSV files\n",
    "for iter, file_name in enumerate(csv_files, start=1):\n",
    "    #print(data[iter-1])\n",
    "    file_path = os.path.join(input_dir, file_name)\n",
    "    scen = data[iter-1]\n",
    "    # Call the preprocessing function\n",
    "    preprocess(file_path, scen, iter, output_dir)"
   ]
  },
  {
   "cell_type": "code",
   "execution_count": 69,
   "metadata": {},
   "outputs": [],
   "source": [
    "import pandas as pd\n",
    "import os\n",
    "\n",
    "# Define the path to the directory with the CSV files\n",
    "input_dir = 'processed_results'\n",
    "\n",
    "# Get a list of all CSV files in the directory\n",
    "csv_files = [f for f in os.listdir(input_dir) if f.endswith('.csv')]\n",
    "\n",
    "# Initialize an empty list to hold the DataFrames\n",
    "dfs = []\n",
    "\n",
    "# Loop over all CSV files\n",
    "for file_name in csv_files:\n",
    "    # Define the file path\n",
    "    file_path = os.path.join(input_dir, file_name)\n",
    "    \n",
    "    # Read the CSV file into a DataFrame\n",
    "    df = pd.read_csv(file_path)\n",
    "    \n",
    "    # Append the DataFrame to the list\n",
    "    dfs.append(df)\n",
    "\n",
    "# Concatenate all DataFrames in the list into a single DataFrame\n",
    "df = pd.concat(dfs, ignore_index=True)"
   ]
  },
  {
   "cell_type": "code",
   "execution_count": 70,
   "metadata": {},
   "outputs": [
    {
     "data": {
      "text/html": [
       "<div>\n",
       "<style scoped>\n",
       "    .dataframe tbody tr th:only-of-type {\n",
       "        vertical-align: middle;\n",
       "    }\n",
       "\n",
       "    .dataframe tbody tr th {\n",
       "        vertical-align: top;\n",
       "    }\n",
       "\n",
       "    .dataframe thead th {\n",
       "        text-align: right;\n",
       "    }\n",
       "</style>\n",
       "<table border=\"1\" class=\"dataframe\">\n",
       "  <thead>\n",
       "    <tr style=\"text-align: right;\">\n",
       "      <th></th>\n",
       "      <th>CGM</th>\n",
       "      <th>insulin</th>\n",
       "      <th>Meal</th>\n",
       "      <th>Prediction</th>\n",
       "    </tr>\n",
       "  </thead>\n",
       "  <tbody>\n",
       "    <tr>\n",
       "      <th>0</th>\n",
       "      <td>161.643949</td>\n",
       "      <td>0.013117</td>\n",
       "      <td>0</td>\n",
       "      <td>157.432022</td>\n",
       "    </tr>\n",
       "    <tr>\n",
       "      <th>1</th>\n",
       "      <td>157.432022</td>\n",
       "      <td>0.013117</td>\n",
       "      <td>0</td>\n",
       "      <td>155.089373</td>\n",
       "    </tr>\n",
       "    <tr>\n",
       "      <th>2</th>\n",
       "      <td>155.089373</td>\n",
       "      <td>0.013117</td>\n",
       "      <td>0</td>\n",
       "      <td>153.322710</td>\n",
       "    </tr>\n",
       "    <tr>\n",
       "      <th>3</th>\n",
       "      <td>153.322710</td>\n",
       "      <td>0.013117</td>\n",
       "      <td>0</td>\n",
       "      <td>151.958950</td>\n",
       "    </tr>\n",
       "    <tr>\n",
       "      <th>4</th>\n",
       "      <td>151.958950</td>\n",
       "      <td>0.013117</td>\n",
       "      <td>0</td>\n",
       "      <td>150.825014</td>\n",
       "    </tr>\n",
       "    <tr>\n",
       "      <th>...</th>\n",
       "      <td>...</td>\n",
       "      <td>...</td>\n",
       "      <td>...</td>\n",
       "      <td>...</td>\n",
       "    </tr>\n",
       "    <tr>\n",
       "      <th>14424</th>\n",
       "      <td>141.693157</td>\n",
       "      <td>0.013117</td>\n",
       "      <td>0</td>\n",
       "      <td>140.700577</td>\n",
       "    </tr>\n",
       "    <tr>\n",
       "      <th>14425</th>\n",
       "      <td>140.700577</td>\n",
       "      <td>0.013117</td>\n",
       "      <td>0</td>\n",
       "      <td>139.741977</td>\n",
       "    </tr>\n",
       "    <tr>\n",
       "      <th>14426</th>\n",
       "      <td>139.741977</td>\n",
       "      <td>0.013117</td>\n",
       "      <td>0</td>\n",
       "      <td>138.943963</td>\n",
       "    </tr>\n",
       "    <tr>\n",
       "      <th>14427</th>\n",
       "      <td>138.943963</td>\n",
       "      <td>0.013117</td>\n",
       "      <td>0</td>\n",
       "      <td>138.415138</td>\n",
       "    </tr>\n",
       "    <tr>\n",
       "      <th>14428</th>\n",
       "      <td>138.415138</td>\n",
       "      <td>0.013117</td>\n",
       "      <td>0</td>\n",
       "      <td>138.155350</td>\n",
       "    </tr>\n",
       "  </tbody>\n",
       "</table>\n",
       "<p>14400 rows × 4 columns</p>\n",
       "</div>"
      ],
      "text/plain": [
       "              CGM   insulin  Meal  Prediction\n",
       "0      161.643949  0.013117     0  157.432022\n",
       "1      157.432022  0.013117     0  155.089373\n",
       "2      155.089373  0.013117     0  153.322710\n",
       "3      153.322710  0.013117     0  151.958950\n",
       "4      151.958950  0.013117     0  150.825014\n",
       "...           ...       ...   ...         ...\n",
       "14424  141.693157  0.013117     0  140.700577\n",
       "14425  140.700577  0.013117     0  139.741977\n",
       "14426  139.741977  0.013117     0  138.943963\n",
       "14427  138.943963  0.013117     0  138.415138\n",
       "14428  138.415138  0.013117     0  138.155350\n",
       "\n",
       "[14400 rows x 4 columns]"
      ]
     },
     "execution_count": 70,
     "metadata": {},
     "output_type": "execute_result"
    }
   ],
   "source": [
    "#df = pd.read_csv('E:\\\\Projects\\\\Unfinished\\\\Insulin Project\\\\results2\\\\adolescent#001_processed.csv')\n",
    "df.drop(['Time', 'Date'], axis=1, inplace=True)\n",
    "df.dropna(inplace=True)\n",
    "df"
   ]
  },
  {
   "cell_type": "code",
   "execution_count": 71,
   "metadata": {},
   "outputs": [],
   "source": [
    "import torch\n",
    "from torch import nn\n",
    "from sklearn.model_selection import train_test_split\n",
    "from sklearn.preprocessing import StandardScaler\n",
    "\n",
    "# Define the input features and the target variable\n",
    "X = df[['CGM', 'Meal', 'insulin']].values\n",
    "y = df['Prediction'].values\n",
    "\n",
    "# Split the data into training and testing sets\n",
    "X_train, X_test, y_train, y_test = train_test_split(X, y, test_size=0.2, random_state=42)"
   ]
  },
  {
   "cell_type": "code",
   "execution_count": 72,
   "metadata": {},
   "outputs": [],
   "source": [
    "# Convert the data into PyTorch tensors\n",
    "X_train = torch.FloatTensor(X_train)\n",
    "X_test = torch.FloatTensor(X_test)\n",
    "y_train = torch.FloatTensor(y_train)\n",
    "y_test = torch.FloatTensor(y_test)\n"
   ]
  },
  {
   "cell_type": "code",
   "execution_count": 73,
   "metadata": {},
   "outputs": [
    {
     "data": {
      "text/plain": [
       "torch.Size([3])"
      ]
     },
     "execution_count": 73,
     "metadata": {},
     "output_type": "execute_result"
    }
   ],
   "source": [
    "X_train[0].shape"
   ]
  },
  {
   "cell_type": "code",
   "execution_count": 74,
   "metadata": {},
   "outputs": [],
   "source": [
    "# Create the ANN model\n",
    "model = nn.Sequential(\n",
    "    nn.Linear(3, 20),\n",
    "    nn.ReLU(),\n",
    "    nn.Linear(20, 10),\n",
    "    nn.ReLU(),\n",
    "    nn.Linear(10, 1)\n",
    ")\n",
    "\n",
    "# Define the loss function and the optimizer\n",
    "criterion = nn.MSELoss()\n",
    "optimizer = torch.optim.Adam(model.parameters(), lr=0.01)\n",
    "\n",
    "# Train the model\n",
    "epochs = 100\n",
    "for epoch in range(epochs):\n",
    "    model.train()\n",
    "    optimizer.zero_grad()\n",
    "    y_pred = model(X_train)\n",
    "    loss = criterion(y_pred.squeeze(), y_train)\n",
    "    loss.backward()\n",
    "    optimizer.step()"
   ]
  },
  {
   "cell_type": "code",
   "execution_count": 75,
   "metadata": {},
   "outputs": [
    {
     "data": {
      "image/png": "[encoded data removed]",
      "text/plain": [
       "<Figure size 640x480 with 1 Axes>"
      ]
     },
     "metadata": {},
     "output_type": "display_data"
    }
   ],
   "source": [
    "import matplotlib.pyplot as plt\n",
    "\n",
    "# Switch to evaluation mode\n",
    "model.eval()\n",
    "\n",
    "# Make predictions on the test set\n",
    "with torch.no_grad():\n",
    "    y_pred_test = model(X_test)\n",
    "\n",
    "# Convert tensors to numpy arrays for plotting\n",
    "y_test_np = y_test.numpy()\n",
    "y_pred_test_np = y_pred_test.numpy().squeeze()\n",
    "\n",
    "# Create a scatter plot of actual vs predicted values\n",
    "plt.scatter(y_test_np, y_pred_test_np)\n",
    "plt.xlabel('Actual Values')\n",
    "plt.ylabel('Predicted Values')\n",
    "plt.title('Actual vs Predicted Values')\n",
    "plt.show()"
   ]
  },
  {
   "cell_type": "code",
   "execution_count": 76,
   "metadata": {},
   "outputs": [
    {
     "name": "stdout",
     "output_type": "stream",
     "text": [
      "Test Loss: 9.73241901397705\n"
     ]
    }
   ],
   "source": [
    "# Switch to evaluation mode\n",
    "model.eval()\n",
    "\n",
    "# Make predictions on the test set\n",
    "with torch.no_grad():\n",
    "    y_pred_test = model(X_test)\n",
    "\n",
    "# Compute the loss on the test set\n",
    "test_loss = criterion(y_pred_test.squeeze(), y_test)\n",
    "\n",
    "# Print the test loss\n",
    "print(f'Test Loss: {test_loss.item()}')"
   ]
  },
  {
   "cell_type": "code",
   "execution_count": 77,
   "metadata": {},
   "outputs": [],
   "source": [
    "torch.save({\n",
    "    'model_state_dict': model.state_dict(),\n",
    "    'optimizer_state_dict': optimizer.state_dict(),\n",
    "}, 'model.pth')"
   ]
  },
  {
   "cell_type": "code",
   "execution_count": null,
   "metadata": {},
   "outputs": [],
   "source": []
  }
 ],
 "metadata": {
  "kernelspec": {
   "display_name": "Python 3",
   "language": "python",
   "name": "python3"
  },
  "language_info": {
   "codemirror_mode": {
    "name": "ipython",
    "version": 3
   },
   "file_extension": ".py",
   "mimetype": "text/x-python",
   "name": "python",
   "nbconvert_exporter": "python",
   "pygments_lexer": "ipython3",
   "version": "3.9.9"
  }
 },
 "nbformat": 4,
 "nbformat_minor": 2
}
